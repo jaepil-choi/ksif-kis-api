{
 "cells": [
  {
   "cell_type": "markdown",
   "id": "9b39843c",
   "metadata": {},
   "source": [
    "# 한국투자증권 open api 직접 사용 튜토리얼"
   ]
  },
  {
   "cell_type": "code",
   "execution_count": 1,
   "id": "166e8168",
   "metadata": {},
   "outputs": [],
   "source": [
    "import requests\n",
    "import json\n"
   ]
  },
  {
   "cell_type": "code",
   "execution_count": 3,
   "id": "ef962f1d",
   "metadata": {},
   "outputs": [],
   "source": [
    "with open('secret1.json', 'r') as f:\n",
    "    j = json.load(f)\n",
    "\n",
    "    ID = j['id']\n",
    "    APP_KEY = j['appkey']\n",
    "    APP_SECRET = j['secretkey']\n",
    "    ACCOUNT = j['account']\n"
   ]
  },
  {
   "cell_type": "code",
   "execution_count": 12,
   "id": "26d0cf86",
   "metadata": {},
   "outputs": [],
   "source": [
    "\n",
    "# 발급받은 AppKey / AppSecret / Access Token 입력\n",
    "# APP_KEY = \"발급받은AppKey\"\n",
    "# APP_SECRET = \"발급받은AppSecret\"\n",
    "ACCESS_TOKEN = \"AccessToken\"\n",
    "\n",
    "# 조회할 종목코드 (예: 삼성전자 005930)\n",
    "stock_code = \"005930\"\n",
    "\n",
    "# 국내주식기간별시세 API URL\n",
    "url = \"https://openapi.koreainvestment.com:9443/uapi/domestic-stock/v1/quotations/inquire-daily-itemchartprice\"\n",
    "\n",
    "# 헤더 설정\n",
    "headers = {\n",
    "    \"Content-Type\": \"application/json\",\n",
    "    # \"authorization\": f\"Bearer {ACCESS_TOKEN}\",\n",
    "    \"appKey\": APP_KEY,\n",
    "    \"appSecret\": APP_SECRET,\n",
    "    \"tr_id\": \"FHKST03010100\",  # 실전투자용 TR_ID\n",
    "}\n",
    "\n",
    "# 요청 파라미터\n",
    "params = {\n",
    "    \"fid_cond_mrkt_div_code\": \"J\",   # 시장구분 (J: 주식)\n",
    "    \"fid_input_iscd\": stock_code,    # 종목코드\n",
    "    \"fid_input_date_1\": \"20240101\",  # 조회 시작일 (YYYYMMDD)\n",
    "    \"fid_input_date_2\": \"20240901\",  # 조회 종료일 (YYYYMMDD)\n",
    "    \"fid_period_div_code\": \"D\",      # 기간 구분 (D:일 / W:주 / M:월 / Y:년)\n",
    "    \"fid_org_adj_prc\": \"1\"           # 수정주가 반영 여부 (1: 수정주가 / 0: 원시가격)\n",
    "}\n",
    "\n",
    "# API 호출\n",
    "res = requests.get(url, headers=headers, params=params)\n"
   ]
  },
  {
   "cell_type": "code",
   "execution_count": 13,
   "id": "9ad10473",
   "metadata": {},
   "outputs": [],
   "source": [
    "\n",
    "data = res.json()\n",
    "\n",
    "# 결과 출력 (원시가격, 수정계수, 수정종가)\n",
    "for item in data.get(\"output2\", []):\n",
    "    print(\n",
    "        f\"일자: {item['stck_bsop_date']} | \"\n",
    "        f\"종가(원시): {item['stck_clpr']} | \"\n",
    "        f\"수정계수: {item['adj_rto']} | \"\n",
    "        f\"수정종가: {item['adj_prpr']}\"\n",
    "    )\n"
   ]
  },
  {
   "cell_type": "code",
   "execution_count": 14,
   "id": "afea6d83",
   "metadata": {},
   "outputs": [
    {
     "data": {
      "text/plain": [
       "<Response [500]>"
      ]
     },
     "execution_count": 14,
     "metadata": {},
     "output_type": "execute_result"
    }
   ],
   "source": [
    "res"
   ]
  },
  {
   "cell_type": "code",
   "execution_count": 23,
   "id": "d45ea9b8",
   "metadata": {},
   "outputs": [
    {
     "data": {
      "text/plain": [
       "'{\"rt_cd\":\"1\",\"msg_cd\":\"EGW00205\",\"msg1\":\"credentials_type이 유효하지 않습니다.(Bearer)\"}'"
      ]
     },
     "execution_count": 23,
     "metadata": {},
     "output_type": "execute_result"
    }
   ],
   "source": [
    "res.content.decode('utf-8')"
   ]
  },
  {
   "cell_type": "code",
   "execution_count": null,
   "id": "59083e43",
   "metadata": {},
   "outputs": [],
   "source": []
  }
 ],
 "metadata": {
  "kernelspec": {
   "display_name": ".venv",
   "language": "python",
   "name": "python3"
  },
  "language_info": {
   "codemirror_mode": {
    "name": "ipython",
    "version": 3
   },
   "file_extension": ".py",
   "mimetype": "text/x-python",
   "name": "python",
   "nbconvert_exporter": "python",
   "pygments_lexer": "ipython3",
   "version": "3.12.7"
  }
 },
 "nbformat": 4,
 "nbformat_minor": 5
}
