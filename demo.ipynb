{
 "cells": [
  {
   "cell_type": "markdown",
   "metadata": {},
   "source": [
    "# 한국투자증권 API 데모"
   ]
  },
  {
   "cell_type": "code",
   "execution_count": 1,
   "metadata": {},
   "outputs": [],
   "source": [
    "import pandas as pd\n",
    "import numpy as np\n",
    "import matplotlib.pyplot as plt\n",
    "import seaborn as sns\n",
    "\n",
    "from pykis import KisAuth, PyKis"
   ]
  },
  {
   "cell_type": "markdown",
   "metadata": {},
   "source": [
    "## 기본적인 `python-kis` 사용법"
   ]
  },
  {
   "cell_type": "markdown",
   "metadata": {},
   "source": [
    "### 인증"
   ]
  },
  {
   "cell_type": "markdown",
   "metadata": {},
   "source": [
    "1.2. 엑세스 토큰 관리\n",
    "\n",
    "한국투자증권 개인 고객의 경우, 엑세스 토큰의 만료 기간은 1일이며, 엑세스 토큰을 발급받으면, 계좌와 연결된 카카오톡으로 알림이 전송됩니다.\n",
    "\n",
    "PyKis는 엑세스 토큰을 자동으로 관리하기 때문에 일반적인 환경에서는 발급이나 만료를 직접 관리할 필요가 없습니다.\n",
    "\n",
    "하지만 만약, PyKis 객체를 1일 이상 유지하기 어려운 환경이라면, 엑세스 토큰을 파일로 저장하여 기간이 남은 토큰을 재사용할 수 있습니다."
   ]
  },
  {
   "cell_type": "code",
   "execution_count": null,
   "metadata": {},
   "outputs": [],
   "source": [
    "# 실전투자용 PyKis 객체를 생성합니다.\n",
    "# kis = PyKis(\"secret.json\", keep_token=True)\n",
    "kis = PyKis(KisAuth.load(\"secret1.json\"), keep_token=True)\n",
    "# keep_token=True를 사용하여 토큰을 자동으로 저장합니다.\n",
    "# 기본 저장 경로는 ~/.pykis/ 입니다. 신뢰할 수 없는 환경에서 사용하지 마세요.\n",
    "\n",
    "# # 모의투자용 PyKis 객체를 생성합니다.\n",
    "# kis = PyKis(\"secret.json\", \"virtual_secret.json\", keep_token=True)\n",
    "# kis = PyKis(KisAuth.load(\"secret.json\"), KisAuth.load(\"virtual_secret.json\"), keep_token=True)"
   ]
  },
  {
   "cell_type": "markdown",
   "metadata": {},
   "source": [
    "### 시세조회"
   ]
  },
  {
   "cell_type": "code",
   "execution_count": 8,
   "metadata": {},
   "outputs": [],
   "source": [
    "from pykis import KisQuote\n",
    "\n",
    "# 엔비디아의 상품 객체를 가져옵니다.\n",
    "stock = kis.stock(\"NVDA\", market='NASDAQ')\n",
    "\n",
    "# API의 한계로 종목이 발견될 때까지 모든 시장을 순회하며 조회하므로 시장 정보를 함께 입력하면 더 빠르게 조회할 수 있습니다.\n",
    "# 기본값은 한국 -> 미국 -> 일본 -> 홍콩 -> 중국 -> 베트남 순으로 조회합니다.\n"
   ]
  },
  {
   "cell_type": "code",
   "execution_count": 10,
   "metadata": {},
   "outputs": [
    {
     "data": {
      "text/plain": [
       "_KisStockInfo(market='KRX', symbol='000660', name='SK하이닉스', name_eng='SK hynix')"
      ]
     },
     "execution_count": 10,
     "metadata": {},
     "output_type": "execute_result"
    }
   ],
   "source": [
    "hynix = kis.stock(\"000660\")\n",
    "hynix.info\n"
   ]
  },
  {
   "cell_type": "code",
   "execution_count": 15,
   "metadata": {},
   "outputs": [
    {
     "name": "stdout",
     "output_type": "stream",
     "text": [
      "\n",
      "주식\n",
      "KR7000660001\n",
      "\n"
     ]
    }
   ],
   "source": [
    "print(f'''\n",
    "{hynix.info.market_name}\n",
    "{hynix.info.std_code}\n",
    "''')\n"
   ]
  },
  {
   "cell_type": "code",
   "execution_count": 16,
   "metadata": {},
   "outputs": [
    {
     "name": "stdout",
     "output_type": "stream",
     "text": [
      "KisDomesticQuote(\n",
      "    symbol='000660',\n",
      "    market='KRX',\n",
      "    name='SK하이닉스',\n",
      "    sector_name='전기·전자',\n",
      "    volume=4526286,\n",
      "    amount=1584129187659,\n",
      "    market_cap=2569848,\n",
      "    indicator=KisDomesticIndicator(\n",
      "        eps=27182,\n",
      "        bps=104567,\n",
      "        per=12.99,\n",
      "        pbr=3.38,\n",
      "        week52_high=357000,\n",
      "        week52_low=144700,\n",
      "        week52_high_date='2025-09-18',\n",
      "        week52_low_date='2024-09-19'\n",
      "    ),\n",
      "    open=338500,\n",
      "    high=357000,\n",
      "    low=336500,\n",
      "    close=353000,\n",
      "    change=19500,\n",
      "    unit=1,\n",
      "    tick=500,\n",
      "    risk='none',\n",
      "    halt=False,\n",
      "    overbought=False\n",
      ")\n"
     ]
    }
   ],
   "source": [
    "\n",
    "\n",
    "quote: KisQuote = hynix.quote()\n",
    "quote: KisQuote = hynix.quote(extended=True) # 주간거래 시세\n",
    "\n",
    "# PyKis의 모든 객체는 repr을 통해 주요 내용을 확인할 수 있습니다.\n",
    "# 데이터를 확인하는 용도이므로 실제 프로퍼티 타입과 다를 수 있습니다.\n",
    "print(quote)"
   ]
  },
  {
   "cell_type": "code",
   "execution_count": 17,
   "metadata": {},
   "outputs": [
    {
     "name": "stdout",
     "output_type": "stream",
     "text": [
      "\n",
      "종목코드: CPNG\n",
      "종목명: 쿠팡\n",
      "종목시장: NYSE\n",
      "\n",
      "업종명: \n",
      "\n",
      "현재가: 33.93\n",
      "거래량: 1492\n",
      "거래대금: 50652\n",
      "시가총액: 5.65022718E+10\n",
      "대비부호: rise\n",
      "위험도: none\n",
      "거래정지: False\n",
      "단기과열구분: False\n",
      "\n",
      "전일종가: 33.53\n",
      "전일거래량: 9100182\n",
      "전일대비: 0.40\n",
      "\n",
      "상한가: 0\n",
      "하한가: 0\n",
      "거래단위: 1\n",
      "호가단위: 0.01\n",
      "소수점 자리수: 4\n",
      "\n",
      "통화코드: USD\n",
      "당일환율: 1385.9\n",
      "\n",
      "당일시가: 33.82\n",
      "당일고가: 33.96\n",
      "당일저가: 33.82\n",
      "\n",
      "등락율: 1.192961526990754548165821652\n",
      "대비부호명: 상승\n",
      "\n",
      "==== 종목 지표 ====\n",
      "\n",
      "EPS (주당순이익): 0.2\n",
      "BPS (주당순자산): 2.58\n",
      "PER (주가수익비율): 170.85\n",
      "PBR (주가순자산비율): 13.17\n",
      "\n",
      "52주 최고가: 33.96\n",
      "52주 최저가: 19.02\n",
      "52주 최고가 날짜: 2025-09-18\n",
      "52주 최저가 날짜: 2025-04-07\n",
      "\n"
     ]
    }
   ],
   "source": [
    "from pykis import KisQuote\n",
    "\n",
    "quote: KisQuote = kis.stock(\"CPNG\").quote()\n",
    "\n",
    "print(\n",
    "    f\"\"\"\n",
    "종목코드: {quote.symbol}\n",
    "종목명: {quote.name}\n",
    "종목시장: {quote.market}\n",
    "\n",
    "업종명: {quote.sector_name}\n",
    "\n",
    "현재가: {quote.price}\n",
    "거래량: {quote.volume}\n",
    "거래대금: {quote.amount}\n",
    "시가총액: {quote.market_cap}\n",
    "대비부호: {quote.sign}\n",
    "위험도: {quote.risk}\n",
    "거래정지: {quote.halt}\n",
    "단기과열구분: {quote.overbought}\n",
    "\n",
    "전일종가: {quote.prev_price}\n",
    "전일거래량: {quote.prev_volume}\n",
    "전일대비: {quote.change}\n",
    "\n",
    "상한가: {quote.high_limit}\n",
    "하한가: {quote.low_limit}\n",
    "거래단위: {quote.unit}\n",
    "호가단위: {quote.tick}\n",
    "소수점 자리수: {quote.decimal_places}\n",
    "\n",
    "통화코드: {quote.currency}\n",
    "당일환율: {quote.exchange_rate}\n",
    "\n",
    "당일시가: {quote.open}\n",
    "당일고가: {quote.high}\n",
    "당일저가: {quote.low}\n",
    "\n",
    "등락율: {quote.rate}\n",
    "대비부호명: {quote.sign_name}\n",
    "\n",
    "==== 종목 지표 ====\n",
    "\n",
    "EPS (주당순이익): {quote.indicator.eps}\n",
    "BPS (주당순자산): {quote.indicator.bps}\n",
    "PER (주가수익비율): {quote.indicator.per}\n",
    "PBR (주가순자산비율): {quote.indicator.pbr}\n",
    "\n",
    "52주 최고가: {quote.indicator.week52_high}\n",
    "52주 최저가: {quote.indicator.week52_low}\n",
    "52주 최고가 날짜: {quote.indicator.week52_high_date.strftime(\"%Y-%m-%d\")}\n",
    "52주 최저가 날짜: {quote.indicator.week52_low_date.strftime(\"%Y-%m-%d\")}\n",
    "\"\"\"\n",
    ")"
   ]
  },
  {
   "cell_type": "code",
   "execution_count": 20,
   "metadata": {},
   "outputs": [],
   "source": [
    "from datetime import date, time\n",
    "from pykis import KisChart\n",
    "\n",
    "chart: KisChart = hynix.chart()  # 기본값은 상장 이래의 일봉입니다.\n",
    "# 최근 기간 조회는 아래와 같이 시간 표현식을 사용할 수 있습니다.\n",
    "# 1m: 1분\n",
    "# 1h: 1시간\n",
    "# 1d: 1일\n",
    "# 1w: 1주\n",
    "# 1M: 1개월 (개월 단위는 대문자 M)\n",
    "# 1y: 1년\n",
    "# 1y6M: 1년 6개월\n",
    "chart: KisChart = hynix.chart(\"3d\")  # 최근 3일 일봉입니다.\n"
   ]
  },
  {
   "cell_type": "code",
   "execution_count": 21,
   "metadata": {},
   "outputs": [
    {
     "data": {
      "text/plain": [
       "KisDomesticDailyChart(\n",
       "    market='KRX',\n",
       "    symbol='000660',\n",
       "    bars=[\n",
       "        KisDomesticDailyChartBar(time='2025-09-15T00:00:00+09:00', open=339500, close=331000, high=341500, low=325000, volume=4221256, amount=1404142725000, change=2500),\n",
       "        KisDomesticDailyChartBar(time='2025-09-16T00:00:00+09:00', open=331500, close=348000, high=354000, low=331500, volume=5841135, amount=2021474469432, change=17000),\n",
       "        KisDomesticDailyChartBar(time='2025-09-17T00:00:00+09:00', open=341000, close=333500, high=342500, low=333500, volume=4498866, amount=1515919259650, change=-14500),\n",
       "        KisDomesticDailyChartBar(time='2025-09-18T00:00:00+09:00', open=338500, close=353000, high=357000, low=336500, volume=4526286, amount=1584129187659, change=19500)\n",
       "    ]\n",
       ")"
      ]
     },
     "execution_count": 21,
     "metadata": {},
     "output_type": "execute_result"
    }
   ],
   "source": [
    "chart\n"
   ]
  },
  {
   "cell_type": "code",
   "execution_count": 22,
   "metadata": {},
   "outputs": [],
   "source": [
    "\n",
    "chart: KisChart = hynix.chart(\"1y\", period=\"month\")  # 최근 1년간의 월봉입니다.\n"
   ]
  },
  {
   "cell_type": "code",
   "execution_count": 23,
   "metadata": {},
   "outputs": [
    {
     "data": {
      "text/plain": [
       "KisDomesticDailyChart(\n",
       "    market='KRX',\n",
       "    symbol='000660',\n",
       "    bars=[\n",
       "        KisDomesticDailyChartBar(time='2024-09-30T00:00:00+09:00', open=173600, close=174600, high=189300, low=144700, volume=107933702, amount=17663694498321, change=900),\n",
       "        KisDomesticDailyChartBar(time='2024-10-31T00:00:00+09:00', open=172700, close=186300, high=206000, low=169100, volume=86183779, amount=16304418684261, change=11700),\n",
       "        KisDomesticDailyChartBar(time='2024-11-29T00:00:00+09:00', open=182500, close=159900, high=203000, low=157600, volume=81358618, amount=14547049639015, change=-26400),\n",
       "        KisDomesticDailyChartBar(time='2024-12-30T00:00:00+09:00', open=162200, close=173900, high=184500, low=158600, volume=70906903, amount=12140170482126, change=14000),\n",
       "        KisDomesticDailyChartBar(time='2025-01-31T00:00:00+09:00', open=170500, close=199200, high=227000, low=170000, volume=93226380, amount=19014634991691, change=25300),\n",
       "        KisDomesticDailyChartBar(time='2025-02-28T00:00:00+09:00', open=191500, close=190200, high=219500, low=186900, volume=72357075, amount=14536053314602, change=-9000),\n",
       "        KisDomesticDailyChartBar(time='2025-03-31T00:00:00+09:00', open=184800, close=190700, high=219500, low=181300, volume=64484725, amount=12856327045739, change=500),\n",
       "        KisDomesticDailyChartBar(time='2025-04-30T00:00:00+09:00', open=193600, close=177500, high=201500, low=162700, volume=84081350, amount=15034049350903, change=-13200),\n",
       "        KisDomesticDailyChartBar(time='2025-05-30T00:00:00+09:00', open=179400, close=204500, high=214500, low=178400, volume=54576676, amount=10885494938988, change=27000),\n",
       "        KisDomesticDailyChartBar(time='2025-06-30T00:00:00+09:00', open=205000, close=292000, high=298500, low=203000, volume=81870850, amount=20787277958166, change=87500),\n",
       "        KisDomesticDailyChartBar(time='2025-07-31T00:00:00+09:00', open=291000, close=273500, high=306500, low=254500, volume=83485666, amount=23197474955853, change=-18500),\n",
       "        KisDomesticDailyChartBar(time='2025-08-29T00:00:00+09:00', open=266000, close=269000, high=279000, low=245000, volume=55803841, amount=14547800414007, change=-4500),\n",
       "        KisDomesticDailyChartBar(time='2025-09-18T00:00:00+09:00', open=259500, close=353000, high=357000, low=255000, volume=51073387, amount=15786128934711, change=84000)\n",
       "    ]\n",
       ")"
      ]
     },
     "execution_count": 23,
     "metadata": {},
     "output_type": "execute_result"
    }
   ],
   "source": [
    "chart"
   ]
  },
  {
   "cell_type": "code",
   "execution_count": null,
   "metadata": {},
   "outputs": [],
   "source": [
    "\n",
    "# chart: KisChart = hynix.chart(period=\"year\")  # 상장 이래의 연간 일봉입니다.\n",
    "# chart: KisChart = hynix.chart(start=date(2023, 1, 1))  # 2023년 1월 1일부터 현재까지의 일봉입니다.\n",
    "# chart: KisChart = hynix.chart(\n",
    "#     start=date(2023, 1, 1),\n",
    "#     end=date(2024, 1, 1),\n",
    "# ) # 2023년 1월 1일부터 2023년 12월 31일까지의 일봉입니다.\n"
   ]
  },
  {
   "cell_type": "code",
   "execution_count": 24,
   "metadata": {},
   "outputs": [],
   "source": [
    "\n",
    "chart: KisChart = hynix.chart(\"1h\", period=1)  # 최근 1시간의 1분봉입니다.\n"
   ]
  },
  {
   "cell_type": "code",
   "execution_count": 25,
   "metadata": {},
   "outputs": [
    {
     "data": {
      "text/plain": [
       "KisDomesticDayChart(\n",
       "    market='KRX',\n",
       "    symbol='000660',\n",
       "    bars=[\n",
       "        KisDomesticDayChartBar(time='2025-09-18T14:30:00+09:00', open=355500, close=355000, high=355500, low=355000, volume=2135, amount=1166480011500, change=21500),\n",
       "        KisDomesticDayChartBar(time='2025-09-18T14:31:00+09:00', open=355000, close=355000, high=355500, low=355000, volume=10667, amount=1170267131500, change=21500),\n",
       "        KisDomesticDayChartBar(time='2025-09-18T14:32:00+09:00', open=355000, close=354500, high=355000, low=354500, volume=6692, amount=1172641786000, change=21000),\n",
       "        KisDomesticDayChartBar(time='2025-09-18T14:33:00+09:00', open=355000, close=354500, high=355000, low=354500, volume=3687, amount=1173949409250, change=21000),\n",
       "        KisDomesticDayChartBar(time='2025-09-18T14:34:00+09:00', open=355000, close=354000, high=355000, low=354000, volume=19497, amount=1180858170000, change=20500),\n",
       "        KisDomesticDayChartBar(time='2025-09-18T14:35:00+09:00', open=354500, close=354000, high=354500, low=354000, volume=7597, amount=1183549286500, change=20500),\n",
       "        KisDomesticDayChartBar(time='2025-09-18T14:36:00+09:00', open=354000, close=354000, high=354500, low=354000, volume=5544, amount=1185513234500, change=20500),\n",
       "        KisDomesticDayChartBar(time='2025-09-18T14:37:00+09:00', open=354000, close=354000, high=354500, low=354000, volume=5159, amount=1187340881500, change=20500),\n",
       "        KisDomesticDayChartBar(time='2025-09-18T14:38:00+09:00', open=354250, close=354000, high=354500, low=354000, volume=1947, amount=1188030365750, change=20500),\n",
       "        KisDomesticDayChartBar(time='2025-09-18T14:39:00+09:00', open=354000, close=354250, high=354500, low=354000, volume=2418, amount=1188886867250, change=20750),\n",
       "        KisDomesticDayChartBar(time='2025-09-18T14:40:00+09:00', open=354000, close=354000, high=354500, low=354000, volume=9245, amount=1192163297500, change=20500),\n",
       "        KisDomesticDayChartBar(time='2025-09-18T14:41:00+09:00', open=354250, close=355000, high=355000, low=354000, volume=16757, amount=1198105803000, change=21500),\n",
       "        KisDomesticDayChartBar(time='2025-09-18T14:42:00+09:00', open=355000, close=355000, high=355000, low=354500, volume=1774, amount=1198735154500, change=21500),\n",
       "        KisDomesticDayChartBar(time='2025-09-18T14:43:00+09:00', open=355000, close=355000, high=355000, low=354500, volume=3979, amount=1200146314500, change=21500),\n",
       "        KisDomesticDayChartBar(time='2025-09-18T14:44:00+09:00', open=354500, close=355000, high=355000, low=354500, volume=2172, amount=1200916802000, change=21500),\n",
       "        KisDomesticDayChartBar(time='2025-09-18T14:45:00+09:00', open=355000, close=354500, high=355000, low=354500, volume=3406, amount=1202124653500, change=21000),\n",
       "        KisDomesticDayChartBar(time='2025-09-18T14:46:00+09:00', open=354500, close=354500, high=354750, low=354500, volume=11308, amount=1206133517250, change=21000),\n",
       "        KisDomesticDayChartBar(time='2025-09-18T14:47:00+09:00', open=354750, close=353500, high=354750, low=353500, volume=34935, amount=1218505169250, change=20000),\n",
       "        KisDomesticDayChartBar(time='2025-09-18T14:48:00+09:00', open=353500, close=352500, high=354000, low=352500, volume=23338, amount=1226747597500, change=19000),\n",
       "        KisDomesticDayChartBar(time='2025-09-18T14:49:00+09:00', open=353000, close=352500, high=353000, low=352500, volume=8541, amount=1229758758500, change=19000),\n",
       "        KisDomesticDayChartBar(time='2025-09-18T14:50:00+09:00', open=353000, close=352250, high=353000, low=352000, volume=13438, amount=1234495588500, change=18750),\n",
       "        KisDomesticDayChartBar(time='2025-09-18T14:51:00+09:00', open=352000, close=352000, high=352500, low=351500, volume=13293, amount=1239174429000, change=18500),\n",
       "        KisDomesticDayChartBar(time='2025-09-18T14:52:00+09:00', open=352000, close=351500, high=352000, low=351500, volume=10967, amount=1243029767000, change=18000),\n",
       "        KisDomesticDayChartBar(time='2025-09-18T14:53:00+09:00', open=351500, close=353000, high=353000, low=351500, volume=21066, amount=1250446639750, change=19500),\n",
       "        KisDomesticDayChartBar(time='2025-09-18T14:54:00+09:00', open=352500, close=351500, high=353000, low=351500, volume=12406, amount=1254817951000, change=18000),\n",
       "        KisDomesticDayChartBar(time='2025-09-18T14:55:00+09:00', open=351750, close=352000, high=353000, low=351500, volume=19139, amount=1261554736750, change=18500),\n",
       "        KisDomesticDayChartBar(time='2025-09-18T14:56:00+09:00', open=352250, close=352000, high=352500, low=351500, volume=5695, amount=1263559646750, change=18500),\n",
       "        KisDomesticDayChartBar(time='2025-09-18T14:57:00+09:00', open=352000, close=351500, high=352000, low=351500, volume=3275, amount=1264711486750, change=18000),\n",
       "        KisDomesticDayChartBar(time='2025-09-18T14:58:00+09:00', open=351500, close=352000, high=352500, low=351500, volume=11600, amount=1268794919000, change=18500),\n",
       "        KisDomesticDayChartBar(time='2025-09-18T14:59:00+09:00', open=352500, close=352250, high=352500, low=352000, volume=7648, amount=1271487867500, change=18750),\n",
       "        KisDomesticDayChartBar(time='2025-09-18T15:00:00+09:00', open=352250, close=352000, high=352500, low=351500, volume=16597, amount=1277330461000, change=18500),\n",
       "        KisDomesticDayChartBar(time='2025-09-18T15:01:00+09:00', open=352500, close=352250, high=352500, low=352000, volume=2168, amount=1278093820750, change=18750),\n",
       "        KisDomesticDayChartBar(time='2025-09-18T15:02:00+09:00', open=352250, close=352000, high=352500, low=352000, volume=4437, amount=1279656771750, change=18500),\n",
       "        KisDomesticDayChartBar(time='2025-09-18T15:03:00+09:00', open=352500, close=352000, high=352500, low=352000, volume=2226, amount=1280440659250, change=18500),\n",
       "        KisDomesticDayChartBar(time='2025-09-18T15:04:00+09:00', open=352000, close=352000, high=352500, low=352000, volume=3063, amount=1281519048500, change=18500),\n",
       "        KisDomesticDayChartBar(time='2025-09-18T15:05:00+09:00', open=352500, close=352000, high=352500, low=352000, volume=4669, amount=1283163388750, change=18500),\n",
       "        KisDomesticDayChartBar(time='2025-09-18T15:06:00+09:00', open=352500, close=352000, high=352500, low=352000, volume=6827, amount=1285567298500, change=18500),\n",
       "        KisDomesticDayChartBar(time='2025-09-18T15:07:00+09:00', open=352000, close=352000, high=352500, low=352000, volume=6655, amount=1287910336250, change=18500),\n",
       "        KisDomesticDayChartBar(time='2025-09-18T15:08:00+09:00', open=352500, close=352500, high=352500, low=352000, volume=7475, amount=1290543432250, change=19000),\n",
       "        KisDomesticDayChartBar(time='2025-09-18T15:09:00+09:00', open=352500, close=352000, high=352500, low=352000, volume=6921, amount=1292980506500, change=18500),\n",
       "        KisDomesticDayChartBar(time='2025-09-18T15:10:00+09:00', open=352000, close=353000, high=353000, low=352000, volume=24934, amount=1301768247750, change=19500),\n",
       "        KisDomesticDayChartBar(time='2025-09-18T15:11:00+09:00', open=353000, close=353500, high=354000, low=352500, volume=17057, amount=1307795837500, change=20000),\n",
       "        KisDomesticDayChartBar(time='2025-09-18T15:12:00+09:00', open=353750, close=353500, high=354000, low=353000, volume=12055, amount=1312056441500, change=20000),\n",
       "        KisDomesticDayChartBar(time='2025-09-18T15:13:00+09:00', open=353000, close=353500, high=353500, low=353000, volume=4684, amount=1313710868000, change=20000),\n",
       "        KisDomesticDayChartBar(time='2025-09-18T15:14:00+09:00', open=353500, close=353000, high=353500, low=353000, volume=5410, amount=1315621788000, change=19500),\n",
       "        KisDomesticDayChartBar(time='2025-09-18T15:15:00+09:00', open=353500, close=353000, high=353500, low=353000, volume=7522, amount=1318279131000, change=19500),\n",
       "        KisDomesticDayChartBar(time='2025-09-18T15:16:00+09:00', open=353000, close=353000, high=353500, low=353000, volume=5910, amount=1320367013500, change=19500),\n",
       "        KisDomesticDayChartBar(time='2025-09-18T15:17:00+09:00', open=353000, close=353000, high=353500, low=352500, volume=15883, amount=1325974160500, change=19500),\n",
       "        KisDomesticDayChartBar(time='2025-09-18T15:18:00+09:00', open=353000, close=352750, high=353000, low=352500, volume=5997, amount=1328088784000, change=19250),\n",
       "        KisDomesticDayChartBar(time='2025-09-18T15:19:00+09:00', open=352750, close=352000, high=353000, low=351500, volume=23488, amount=1336359520250, change=18500),\n",
       "        KisDomesticDayChartBar(time='2025-09-18T15:20:00+09:00', open=352000, close=352000, high=352000, low=352000, volume=0, amount=1336359520250, change=18500),\n",
       "        KisDomesticDayChartBar(time='2025-09-18T15:21:00+09:00', open=352000, close=352000, high=352000, low=352000, volume=0, amount=1336359520250, change=18500),\n",
       "        KisDomesticDayChartBar(time='2025-09-18T15:22:00+09:00', open=352000, close=352000, high=352000, low=352000, volume=0, amount=1336359520250, change=18500),\n",
       "        KisDomesticDayChartBar(time='2025-09-18T15:23:00+09:00', open=352000, close=352000, high=352000, low=352000, volume=0, amount=1336359520250, change=18500),\n",
       "        KisDomesticDayChartBar(time='2025-09-18T15:24:00+09:00', open=352000, close=352000, high=352000, low=352000, volume=0, amount=1336359520250, change=18500),\n",
       "        KisDomesticDayChartBar(time='2025-09-18T15:25:00+09:00', open=352000, close=352000, high=352000, low=352000, volume=0, amount=1336359520250, change=18500),\n",
       "        KisDomesticDayChartBar(time='2025-09-18T15:26:00+09:00', open=352000, close=352000, high=352000, low=352000, volume=0, amount=1336359520250, change=18500),\n",
       "        KisDomesticDayChartBar(time='2025-09-18T15:27:00+09:00', open=352000, close=352000, high=352000, low=352000, volume=0, amount=1336359520250, change=18500),\n",
       "        KisDomesticDayChartBar(time='2025-09-18T15:28:00+09:00', open=352000, close=352000, high=352000, low=352000, volume=0, amount=1336359520250, change=18500),\n",
       "        KisDomesticDayChartBar(time='2025-09-18T15:29:00+09:00', open=352000, close=352000, high=352000, low=352000, volume=0, amount=1336359520250, change=18500),\n",
       "        KisDomesticDayChartBar(time='2025-09-18T15:30:00+09:00', open=353000, close=353000, high=353000, low=353000, volume=622774, amount=1446279131250, change=19500)\n",
       "    ]\n",
       ")"
      ]
     },
     "execution_count": 25,
     "metadata": {},
     "output_type": "execute_result"
    }
   ],
   "source": [
    "chart"
   ]
  },
  {
   "cell_type": "code",
   "execution_count": null,
   "metadata": {},
   "outputs": [],
   "source": [
    "\n",
    "chart: KisChart = hynix.chart(period=5)  # 당일 5분봉입니다.\n",
    "chart: KisChart = hynix.chart(period=1, end=time(12, 30))  # 당일 12시 30분까지의 1분봉입니다."
   ]
  },
  {
   "cell_type": "code",
   "execution_count": 30,
   "metadata": {},
   "outputs": [
    {
     "ename": "UnicodeDecodeError",
     "evalue": "'cp949' codec can't decode byte 0xe2 in position 5815: illegal multibyte sequence",
     "output_type": "error",
     "traceback": [
      "\u001b[31m---------------------------------------------------------------------------\u001b[39m",
      "\u001b[31mUnicodeDecodeError\u001b[39m                        Traceback (most recent call last)",
      "\u001b[36mCell\u001b[39m\u001b[36m \u001b[39m\u001b[32mIn[30]\u001b[39m\u001b[32m, line 4\u001b[39m\n\u001b[32m      1\u001b[39m \u001b[38;5;28;01mfrom\u001b[39;00m\u001b[38;5;250m \u001b[39m\u001b[34;01mdatetime\u001b[39;00m\u001b[38;5;250m \u001b[39m\u001b[38;5;28;01mimport\u001b[39;00m datetime, timedelta\n\u001b[32m      2\u001b[39m \u001b[38;5;28;01mfrom\u001b[39;00m\u001b[38;5;250m \u001b[39m\u001b[34;01mlightweight_charts\u001b[39;00m\u001b[38;5;250m \u001b[39m\u001b[38;5;28;01mimport\u001b[39;00m JupyterChart\n\u001b[32m----> \u001b[39m\u001b[32m4\u001b[39m chart_view = \u001b[43mJupyterChart\u001b[49m\u001b[43m(\u001b[49m\u001b[43mwidth\u001b[49m\u001b[43m=\u001b[49m\u001b[32;43m1280\u001b[39;49m\u001b[43m,\u001b[49m\u001b[43m \u001b[49m\u001b[43mheight\u001b[49m\u001b[43m=\u001b[49m\u001b[32;43m720\u001b[39;49m\u001b[43m)\u001b[49m\n\u001b[32m      5\u001b[39m chart = hynix.chart(\u001b[33m\"\u001b[39m\u001b[33m1y\u001b[39m\u001b[33m\"\u001b[39m)\n\u001b[32m      7\u001b[39m chart_view.set(chart.df()) \u001b[38;5;66;03m# pykis의 차트 객체는 df함수를 이용하여 pandas DataFrame으로 변환할 수 있습니다.\u001b[39;00m\n",
      "\u001b[36mFile \u001b[39m\u001b[32mc:\\Users\\chlje\\VSCodeProjects\\ksif-kis-api\\.venv\\Lib\\site-packages\\lightweight_charts\\widgets.py:168\u001b[39m, in \u001b[36mJupyterChart.__init__\u001b[39m\u001b[34m(self, width, height, inner_width, inner_height, scale_candles_only, toolbox)\u001b[39m\n\u001b[32m    167\u001b[39m \u001b[38;5;28;01mdef\u001b[39;00m\u001b[38;5;250m \u001b[39m\u001b[34m__init__\u001b[39m(\u001b[38;5;28mself\u001b[39m, width: \u001b[38;5;28mint\u001b[39m = \u001b[32m800\u001b[39m, height=\u001b[32m350\u001b[39m, inner_width=\u001b[32m1\u001b[39m, inner_height=\u001b[32m1\u001b[39m, scale_candles_only: \u001b[38;5;28mbool\u001b[39m = \u001b[38;5;28;01mFalse\u001b[39;00m, toolbox: \u001b[38;5;28mbool\u001b[39m = \u001b[38;5;28;01mFalse\u001b[39;00m):\n\u001b[32m--> \u001b[39m\u001b[32m168\u001b[39m     \u001b[38;5;28;43msuper\u001b[39;49m\u001b[43m(\u001b[49m\u001b[43m)\u001b[49m\u001b[43m.\u001b[49m\u001b[34;43m__init__\u001b[39;49m\u001b[43m(\u001b[49m\u001b[43mwidth\u001b[49m\u001b[43m,\u001b[49m\u001b[43m \u001b[49m\u001b[43mheight\u001b[49m\u001b[43m,\u001b[49m\u001b[43m \u001b[49m\u001b[43minner_width\u001b[49m\u001b[43m,\u001b[49m\u001b[43m \u001b[49m\u001b[43minner_height\u001b[49m\u001b[43m,\u001b[49m\u001b[43m \u001b[49m\u001b[43mscale_candles_only\u001b[49m\u001b[43m,\u001b[49m\u001b[43m \u001b[49m\u001b[43mtoolbox\u001b[49m\u001b[43m,\u001b[49m\u001b[43m \u001b[49m\u001b[38;5;28;43;01mFalse\u001b[39;49;00m\u001b[43m)\u001b[49m\n\u001b[32m    170\u001b[39m     \u001b[38;5;28mself\u001b[39m.run_script(\u001b[33mf\u001b[39m\u001b[33m'''\u001b[39m\n\u001b[32m    171\u001b[39m \u001b[33m        for (var i = 0; i < document.getElementsByClassName(\u001b[39m\u001b[33m\"\u001b[39m\u001b[33mtv-lightweight-charts\u001b[39m\u001b[33m\"\u001b[39m\u001b[33m).length; i++) \u001b[39m\u001b[38;5;130;01m{{\u001b[39;00m\n\u001b[32m    172\u001b[39m \u001b[33m                var element = document.getElementsByClassName(\u001b[39m\u001b[33m\"\u001b[39m\u001b[33mtv-lightweight-charts\u001b[39m\u001b[33m\"\u001b[39m\u001b[33m)[i];\u001b[39m\n\u001b[32m   (...)\u001b[39m\u001b[32m    178\u001b[39m \u001b[33m        document.getElementById(\u001b[39m\u001b[33m'\u001b[39m\u001b[33mcontainer\u001b[39m\u001b[33m'\u001b[39m\u001b[33m).style.height = \u001b[39m\u001b[33m'\u001b[39m\u001b[33m100%\u001b[39m\u001b[33m'\u001b[39m\n\u001b[32m    179\u001b[39m \u001b[33m        \u001b[39m\u001b[33m'''\u001b[39m)\n\u001b[32m    180\u001b[39m     \u001b[38;5;28mself\u001b[39m.run_script(\u001b[33mf\u001b[39m\u001b[33m'\u001b[39m\u001b[38;5;132;01m{\u001b[39;00m\u001b[38;5;28mself\u001b[39m.id\u001b[38;5;132;01m}\u001b[39;00m\u001b[33m.chart.resize(\u001b[39m\u001b[38;5;132;01m{\u001b[39;00mwidth\u001b[38;5;132;01m}\u001b[39;00m\u001b[33m, \u001b[39m\u001b[38;5;132;01m{\u001b[39;00mheight\u001b[38;5;132;01m}\u001b[39;00m\u001b[33m)\u001b[39m\u001b[33m'\u001b[39m)\n",
      "\u001b[36mFile \u001b[39m\u001b[32mc:\\Users\\chlje\\VSCodeProjects\\ksif-kis-api\\.venv\\Lib\\site-packages\\lightweight_charts\\widgets.py:123\u001b[39m, in \u001b[36mStaticLWC.__init__\u001b[39m\u001b[34m(self, width, height, inner_width, inner_height, scale_candles_only, toolbox, autosize)\u001b[39m\n\u001b[32m    121\u001b[39m     css = f.read()\n\u001b[32m    122\u001b[39m \u001b[38;5;28;01mwith\u001b[39;00m \u001b[38;5;28mopen\u001b[39m(abstract.INDEX.replace(\u001b[33m\"\u001b[39m\u001b[33mindex.html\u001b[39m\u001b[33m\"\u001b[39m, \u001b[33m'\u001b[39m\u001b[33mbundle.js\u001b[39m\u001b[33m'\u001b[39m), \u001b[33m'\u001b[39m\u001b[33mr\u001b[39m\u001b[33m'\u001b[39m) \u001b[38;5;28;01mas\u001b[39;00m f:\n\u001b[32m--> \u001b[39m\u001b[32m123\u001b[39m     js = \u001b[43mf\u001b[49m\u001b[43m.\u001b[49m\u001b[43mread\u001b[49m\u001b[43m(\u001b[49m\u001b[43m)\u001b[49m\n\u001b[32m    124\u001b[39m \u001b[38;5;28;01mwith\u001b[39;00m \u001b[38;5;28mopen\u001b[39m(abstract.INDEX.replace(\u001b[33m\"\u001b[39m\u001b[33mindex.html\u001b[39m\u001b[33m\"\u001b[39m, \u001b[33m'\u001b[39m\u001b[33mlightweight-charts.js\u001b[39m\u001b[33m'\u001b[39m), \u001b[33m'\u001b[39m\u001b[33mr\u001b[39m\u001b[33m'\u001b[39m) \u001b[38;5;28;01mas\u001b[39;00m f:\n\u001b[32m    125\u001b[39m     lwc = f.read()\n",
      "\u001b[31mUnicodeDecodeError\u001b[39m: 'cp949' codec can't decode byte 0xe2 in position 5815: illegal multibyte sequence"
     ]
    }
   ],
   "source": [
    "from datetime import datetime, timedelta\n",
    "from lightweight_charts import JupyterChart\n",
    "\n",
    "chart_view = JupyterChart(width=1280, height=720)\n",
    "chart = hynix.chart(\"1y\")\n",
    "\n",
    "chart_view.set(chart.df()) # pykis의 차트 객체는 df함수를 이용하여 pandas DataFrame으로 변환할 수 있습니다.\n",
    "chart_view.set_visible_range(datetime.now() - timedelta(days=365), datetime.now())\n",
    "\n",
    "chart_view.load()"
   ]
  },
  {
   "cell_type": "code",
   "execution_count": 32,
   "metadata": {},
   "outputs": [
    {
     "name": "stdout",
     "output_type": "stream",
     "text": [
      "매도1호가: KisDomesticOrderbookItem(price=353000, volume=15188) 15188\n",
      "매수1호가: KisDomesticOrderbookItem(price=352500, volume=19851) 19851\n",
      "KisDomesticOrderbook(\n",
      "    market='KRX',\n",
      "    symbol='000660',\n",
      "    asks=[\n",
      "        KisDomesticOrderbookItem(price=353000, volume=15188),\n",
      "        KisDomesticOrderbookItem(price=353500, volume=9086),\n",
      "        KisDomesticOrderbookItem(price=354000, volume=17390),\n",
      "        KisDomesticOrderbookItem(price=354500, volume=16828),\n",
      "        KisDomesticOrderbookItem(price=355000, volume=35894),\n",
      "        KisDomesticOrderbookItem(price=355500, volume=22052),\n",
      "        KisDomesticOrderbookItem(price=356000, volume=18194),\n",
      "        KisDomesticOrderbookItem(price=356500, volume=13505),\n",
      "        KisDomesticOrderbookItem(price=357000, volume=20455),\n",
      "        KisDomesticOrderbookItem(price=357500, volume=8083)\n",
      "    ],\n",
      "    bids=[\n",
      "        KisDomesticOrderbookItem(price=352500, volume=19851),\n",
      "        KisDomesticOrderbookItem(price=352000, volume=29810),\n",
      "        KisDomesticOrderbookItem(price=351500, volume=23023),\n",
      "        KisDomesticOrderbookItem(price=351000, volume=20265),\n",
      "        KisDomesticOrderbookItem(price=350500, volume=14361),\n",
      "        KisDomesticOrderbookItem(price=350000, volume=21343),\n",
      "        KisDomesticOrderbookItem(price=349500, volume=8549),\n",
      "        KisDomesticOrderbookItem(price=349000, volume=9020),\n",
      "        KisDomesticOrderbookItem(price=348500, volume=11616),\n",
      "        KisDomesticOrderbookItem(price=348000, volume=9483)\n",
      "    ]\n",
      ")\n"
     ]
    }
   ],
   "source": [
    "from pykis import KisOrderbook\n",
    "\n",
    "orderbook: KisOrderbook = hynix.orderbook()\n",
    "\n",
    "print(\"매도1호가:\", orderbook.ask_price, orderbook.ask_volume)\n",
    "print(\"매수1호가:\", orderbook.bid_price, orderbook.bid_volume)\n",
    "\n",
    "print(repr(orderbook)) # repr을 통해 객체의 주요 내용을 확인할 수 있습니다."
   ]
  },
  {
   "cell_type": "markdown",
   "metadata": {},
   "source": [
    "### 잔고 조회"
   ]
  },
  {
   "cell_type": "code",
   "execution_count": 5,
   "metadata": {},
   "outputs": [],
   "source": [
    "from pykis import KisBalance\n",
    "\n",
    "# 주 계좌 객체를 가져옵니다.\n",
    "account = kis.account()\n"
   ]
  },
  {
   "cell_type": "code",
   "execution_count": 6,
   "metadata": {},
   "outputs": [
    {
     "data": {
      "text/plain": [
       "KisAccountScope(account_number=KisAccountNumber('43275647-01'))"
      ]
     },
     "execution_count": 6,
     "metadata": {},
     "output_type": "execute_result"
    }
   ],
   "source": [
    "account"
   ]
  },
  {
   "cell_type": "code",
   "execution_count": 7,
   "metadata": {},
   "outputs": [
    {
     "data": {
      "text/plain": [
       "KisIntegrationBalance(\n",
       "    account_number=KisAccountNumber('43275647-01'),\n",
       "    deposits={\n",
       "        'KRW': KisDomesticDeposit(account_number=KisAccountNumber('43275647-01'), currency='KRW', amount=250000, exchange_rate=1)\n",
       "    },\n",
       "    stocks=[\n",
       "        KisDomesticBalanceStock(account_number=KisAccountNumber('43275647-01'), market='KRX', symbol='005930', qty=1, price=80500, amount=80500, profit=0, profit_rate=0)\n",
       "    ],\n",
       "    purchase_amount=80500,\n",
       "    current_amount=80500,\n",
       "    profit=0,\n",
       "    profit_rate=0\n",
       ")"
      ]
     },
     "execution_count": 7,
     "metadata": {},
     "output_type": "execute_result"
    }
   ],
   "source": [
    "account.balance()"
   ]
  },
  {
   "cell_type": "code",
   "execution_count": 33,
   "metadata": {},
   "outputs": [
    {
     "data": {
      "text/plain": [
       "KisIntegrationOrderProfits(\n",
       "    account_number=KisAccountNumber('43275647-01'),\n",
       "    buy_amount=0,\n",
       "    sell_amount=0,\n",
       "    profit=0,\n",
       "    orders=[]\n",
       ")"
      ]
     },
     "execution_count": 33,
     "metadata": {},
     "output_type": "execute_result"
    }
   ],
   "source": [
    "account.profits(start=date(2024, 1, 1))"
   ]
  },
  {
   "cell_type": "code",
   "execution_count": 35,
   "metadata": {},
   "outputs": [
    {
     "name": "stdout",
     "output_type": "stream",
     "text": [
      "KisIntegrationDailyOrders(\n",
      "    account_number=KisAccountNumber('43275647-01'),\n",
      "    orders=[]\n",
      ")\n"
     ]
    }
   ],
   "source": [
    "from datetime import date\n",
    "from pykis import KisDailyOrders\n",
    "\n",
    "daily_orders: KisDailyOrders = account.daily_orders(start=date(2025, 9, 15), end=date(2025, 9, 18))\n",
    "\n",
    "print(repr(daily_orders)) # repr을 통해 객체의 주요 내용을 확인할 수 있습니다."
   ]
  },
  {
   "cell_type": "markdown",
   "metadata": {},
   "source": [
    "### 매도/매수 주문\n",
    "\n",
    "skip for now"
   ]
  },
  {
   "cell_type": "markdown",
   "metadata": {},
   "source": [
    "### 실시간 체결가 조회"
   ]
  },
  {
   "cell_type": "code",
   "execution_count": null,
   "metadata": {},
   "outputs": [
    {
     "name": "stdout",
     "output_type": "stream",
     "text": [
      "{KisWebsocketTR(id='H0STCNT0', key='000660')}\n"
     ]
    }
   ],
   "source": [
    "from pykis import KisRealtimePrice, KisSubscriptionEventArgs, KisWebsocketClient, PyKis\n",
    "\n",
    "def on_price(sender: KisWebsocketClient, e: KisSubscriptionEventArgs[KisRealtimePrice]):\n",
    "    print(e.response)\n",
    "\n",
    "ticket = hynix.on(\"price\", on_price)\n",
    "\n",
    "print(kis.websocket.subscriptions) # 현재 구독중인 이벤트 목록\n",
    "\n",
    "input(\"Press Enter to exit...\")\n",
    "\n",
    "ticket.unsubscribe()"
   ]
  },
  {
   "cell_type": "code",
   "execution_count": null,
   "metadata": {},
   "outputs": [],
   "source": []
  }
 ],
 "metadata": {
  "kernelspec": {
   "display_name": ".venv",
   "language": "python",
   "name": "python3"
  },
  "language_info": {
   "codemirror_mode": {
    "name": "ipython",
    "version": 3
   },
   "file_extension": ".py",
   "mimetype": "text/x-python",
   "name": "python",
   "nbconvert_exporter": "python",
   "pygments_lexer": "ipython3",
   "version": "3.12.7"
  }
 },
 "nbformat": 4,
 "nbformat_minor": 2
}
