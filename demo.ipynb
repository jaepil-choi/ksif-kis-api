{
 "cells": [
  {
   "cell_type": "markdown",
   "metadata": {},
   "source": [
    "# 한국투자증권 API 데모"
   ]
  },
  {
   "cell_type": "code",
   "execution_count": 1,
   "metadata": {},
   "outputs": [],
   "source": [
    "import pandas as pd\n",
    "import numpy as np\n",
    "import matplotlib.pyplot as plt\n",
    "import seaborn as sns\n",
    "\n",
    "from pykis import KisAuth, PyKis"
   ]
  },
  {
   "cell_type": "markdown",
   "metadata": {},
   "source": [
    "## 기본적인 `python-kis` 사용법"
   ]
  },
  {
   "cell_type": "markdown",
   "metadata": {},
   "source": [
    "### 인증"
   ]
  },
  {
   "cell_type": "markdown",
   "metadata": {},
   "source": [
    "1.2. 엑세스 토큰 관리\n",
    "\n",
    "한국투자증권 개인 고객의 경우, 엑세스 토큰의 만료 기간은 1일이며, 엑세스 토큰을 발급받으면, 계좌와 연결된 카카오톡으로 알림이 전송됩니다.\n",
    "\n",
    "PyKis는 엑세스 토큰을 자동으로 관리하기 때문에 일반적인 환경에서는 발급이나 만료를 직접 관리할 필요가 없습니다.\n",
    "\n",
    "하지만 만약, PyKis 객체를 1일 이상 유지하기 어려운 환경이라면, 엑세스 토큰을 파일로 저장하여 기간이 남은 토큰을 재사용할 수 있습니다."
   ]
  },
  {
   "cell_type": "code",
   "execution_count": 2,
   "metadata": {},
   "outputs": [],
   "source": [
    "# 실전투자용 PyKis 객체를 생성합니다.\n",
    "# kis = PyKis(\"secret.json\", keep_token=True)\n",
    "kis = PyKis(KisAuth.load(\"secret1.json\"), keep_token=True)\n",
    "# keep_token=True를 사용하여 토큰을 자동으로 저장합니다.\n",
    "# 기본 저장 경로는 ~/.pykis/ 입니다. 신뢰할 수 없는 환경에서 사용하지 마세요.\n",
    "\n",
    "# # 모의투자용 PyKis 객체를 생성합니다.\n",
    "# kis = PyKis(\"secret.json\", \"virtual_secret.json\", keep_token=True)\n",
    "# kis = PyKis(KisAuth.load(\"secret.json\"), KisAuth.load(\"virtual_secret.json\"), keep_token=True)"
   ]
  },
  {
   "cell_type": "markdown",
   "metadata": {},
   "source": [
    "### 시세조회"
   ]
  },
  {
   "cell_type": "code",
   "execution_count": 3,
   "metadata": {},
   "outputs": [],
   "source": [
    "from pykis import KisQuote\n",
    "\n",
    "# 엔비디아의 상품 객체를 가져옵니다.\n",
    "stock = kis.stock(\"NVDA\", market='NASDAQ')\n",
    "\n",
    "# API의 한계로 종목이 발견될 때까지 모든 시장을 순회하며 조회하므로 시장 정보를 함께 입력하면 더 빠르게 조회할 수 있습니다.\n",
    "# 기본값은 한국 -> 미국 -> 일본 -> 홍콩 -> 중국 -> 베트남 순으로 조회합니다.\n"
   ]
  },
  {
   "cell_type": "code",
   "execution_count": 4,
   "metadata": {},
   "outputs": [
    {
     "data": {
      "text/plain": [
       "_KisStockInfo(market='KRX', symbol='000660', name='SK하이닉스', name_eng='SK hynix')"
      ]
     },
     "execution_count": 4,
     "metadata": {},
     "output_type": "execute_result"
    }
   ],
   "source": [
    "hynix = kis.stock(\"000660\")\n",
    "hynix.info\n"
   ]
  },
  {
   "cell_type": "code",
   "execution_count": 5,
   "metadata": {},
   "outputs": [
    {
     "name": "stdout",
     "output_type": "stream",
     "text": [
      "\n",
      "주식\n",
      "KR7000660001\n",
      "\n"
     ]
    }
   ],
   "source": [
    "print(f'''\n",
    "{hynix.info.market_name}\n",
    "{hynix.info.std_code}\n",
    "''')\n"
   ]
  },
  {
   "cell_type": "code",
   "execution_count": 6,
   "metadata": {},
   "outputs": [
    {
     "name": "stdout",
     "output_type": "stream",
     "text": [
      "KisDomesticQuote(\n",
      "    symbol='000660',\n",
      "    market='KRX',\n",
      "    name='SK하이닉스',\n",
      "    sector_name='전기·전자',\n",
      "    volume=4324894,\n",
      "    amount=1522999569500,\n",
      "    market_cap=2555288,\n",
      "    indicator=KisDomesticIndicator(\n",
      "        eps=27182,\n",
      "        bps=104567,\n",
      "        per=12.91,\n",
      "        pbr=3.36,\n",
      "        week52_high=360000,\n",
      "        week52_low=155700,\n",
      "        week52_high_date='2025-09-19',\n",
      "        week52_low_date='2024-09-23'\n",
      "    ),\n",
      "    open=349000,\n",
      "    high=359000,\n",
      "    low=345250,\n",
      "    close=351000,\n",
      "    change=-2000,\n",
      "    unit=1,\n",
      "    tick=500,\n",
      "    risk='none',\n",
      "    halt=False,\n",
      "    overbought=False\n",
      ")\n"
     ]
    }
   ],
   "source": [
    "\n",
    "\n",
    "quote: KisQuote = hynix.quote()\n",
    "quote: KisQuote = hynix.quote(extended=True) # 주간거래 시세\n",
    "\n",
    "# PyKis의 모든 객체는 repr을 통해 주요 내용을 확인할 수 있습니다.\n",
    "# 데이터를 확인하는 용도이므로 실제 프로퍼티 타입과 다를 수 있습니다.\n",
    "print(quote)"
   ]
  },
  {
   "cell_type": "code",
   "execution_count": 7,
   "metadata": {},
   "outputs": [
    {
     "name": "stdout",
     "output_type": "stream",
     "text": [
      "\n",
      "종목코드: CPNG\n",
      "종목명: 쿠팡\n",
      "종목시장: NYSE\n",
      "\n",
      "업종명: \n",
      "\n",
      "현재가: 32.86\n",
      "거래량: 0\n",
      "거래대금: 0\n",
      "시가총액: 5.47204436E+10\n",
      "대비부호: steady\n",
      "위험도: none\n",
      "거래정지: False\n",
      "단기과열구분: False\n",
      "\n",
      "전일종가: 32.86\n",
      "전일거래량: 111561852\n",
      "전일대비: 0.00\n",
      "\n",
      "상한가: 0\n",
      "하한가: 0\n",
      "거래단위: 1\n",
      "호가단위: 0.01\n",
      "소수점 자리수: 4\n",
      "\n",
      "통화코드: USD\n",
      "당일환율: 1393.2\n",
      "\n",
      "당일시가: 0\n",
      "당일고가: 0\n",
      "당일저가: 0\n",
      "\n",
      "등락율: 0\n",
      "대비부호명: 보합\n",
      "\n",
      "==== 종목 지표 ====\n",
      "\n",
      "EPS (주당순이익): 0.2\n",
      "BPS (주당순자산): 2.58\n",
      "PER (주가수익비율): 165.46\n",
      "PBR (주가순자산비율): 12.76\n",
      "\n",
      "52주 최고가: 34.075\n",
      "52주 최저가: 19.02\n",
      "52주 최고가 날짜: 2025-09-18\n",
      "52주 최저가 날짜: 2025-04-07\n",
      "\n"
     ]
    }
   ],
   "source": [
    "from pykis import KisQuote\n",
    "\n",
    "quote: KisQuote = kis.stock(\"CPNG\").quote()\n",
    "\n",
    "print(\n",
    "    f\"\"\"\n",
    "종목코드: {quote.symbol}\n",
    "종목명: {quote.name}\n",
    "종목시장: {quote.market}\n",
    "\n",
    "업종명: {quote.sector_name}\n",
    "\n",
    "현재가: {quote.price}\n",
    "거래량: {quote.volume}\n",
    "거래대금: {quote.amount}\n",
    "시가총액: {quote.market_cap}\n",
    "대비부호: {quote.sign}\n",
    "위험도: {quote.risk}\n",
    "거래정지: {quote.halt}\n",
    "단기과열구분: {quote.overbought}\n",
    "\n",
    "전일종가: {quote.prev_price}\n",
    "전일거래량: {quote.prev_volume}\n",
    "전일대비: {quote.change}\n",
    "\n",
    "상한가: {quote.high_limit}\n",
    "하한가: {quote.low_limit}\n",
    "거래단위: {quote.unit}\n",
    "호가단위: {quote.tick}\n",
    "소수점 자리수: {quote.decimal_places}\n",
    "\n",
    "통화코드: {quote.currency}\n",
    "당일환율: {quote.exchange_rate}\n",
    "\n",
    "당일시가: {quote.open}\n",
    "당일고가: {quote.high}\n",
    "당일저가: {quote.low}\n",
    "\n",
    "등락율: {quote.rate}\n",
    "대비부호명: {quote.sign_name}\n",
    "\n",
    "==== 종목 지표 ====\n",
    "\n",
    "EPS (주당순이익): {quote.indicator.eps}\n",
    "BPS (주당순자산): {quote.indicator.bps}\n",
    "PER (주가수익비율): {quote.indicator.per}\n",
    "PBR (주가순자산비율): {quote.indicator.pbr}\n",
    "\n",
    "52주 최고가: {quote.indicator.week52_high}\n",
    "52주 최저가: {quote.indicator.week52_low}\n",
    "52주 최고가 날짜: {quote.indicator.week52_high_date.strftime(\"%Y-%m-%d\")}\n",
    "52주 최저가 날짜: {quote.indicator.week52_low_date.strftime(\"%Y-%m-%d\")}\n",
    "\"\"\"\n",
    ")"
   ]
  },
  {
   "cell_type": "code",
   "execution_count": 8,
   "metadata": {},
   "outputs": [],
   "source": [
    "from datetime import date, time\n",
    "from pykis import KisChart\n",
    "\n",
    "chart: KisChart = hynix.chart()  # 기본값은 상장 이래의 일봉입니다.\n",
    "# 최근 기간 조회는 아래와 같이 시간 표현식을 사용할 수 있습니다.\n",
    "# 1m: 1분\n",
    "# 1h: 1시간\n",
    "# 1d: 1일\n",
    "# 1w: 1주\n",
    "# 1M: 1개월 (개월 단위는 대문자 M)\n",
    "# 1y: 1년\n",
    "# 1y6M: 1년 6개월\n",
    "chart: KisChart = hynix.chart(\"3d\")  # 최근 3일 일봉입니다.\n"
   ]
  },
  {
   "cell_type": "code",
   "execution_count": 9,
   "metadata": {},
   "outputs": [
    {
     "data": {
      "text/plain": [
       "KisDomesticDailyChart(\n",
       "    market='KRX',\n",
       "    symbol='000660',\n",
       "    bars=[\n",
       "        KisDomesticDailyChartBar(time='2025-09-19T00:00:00+09:00', open=351500, close=353000, high=360000, low=348000, volume=4385543, amount=1546050743059, change=0),\n",
       "        KisDomesticDailyChartBar(time='2025-09-22T00:00:00+09:00', open=349000, close=351000, high=359000, low=345250, volume=4324894, amount=1522999569500, change=-2000)\n",
       "    ]\n",
       ")"
      ]
     },
     "execution_count": 9,
     "metadata": {},
     "output_type": "execute_result"
    }
   ],
   "source": [
    "chart\n"
   ]
  },
  {
   "cell_type": "code",
   "execution_count": 10,
   "metadata": {},
   "outputs": [],
   "source": [
    "\n",
    "chart: KisChart = hynix.chart(\"1y\", period=\"month\")  # 최근 1년간의 월봉입니다.\n"
   ]
  },
  {
   "cell_type": "code",
   "execution_count": 11,
   "metadata": {},
   "outputs": [
    {
     "data": {
      "text/plain": [
       "KisDomesticDailyChart(\n",
       "    market='KRX',\n",
       "    symbol='000660',\n",
       "    bars=[\n",
       "        KisDomesticDailyChartBar(time='2024-09-30T00:00:00+09:00', open=173600, close=174600, high=189300, low=144700, volume=107933702, amount=17663694498321, change=900),\n",
       "        KisDomesticDailyChartBar(time='2024-10-31T00:00:00+09:00', open=172700, close=186300, high=206000, low=169100, volume=86183779, amount=16304418684261, change=11700),\n",
       "        KisDomesticDailyChartBar(time='2024-11-29T00:00:00+09:00', open=182500, close=159900, high=203000, low=157600, volume=81358618, amount=14547049639015, change=-26400),\n",
       "        KisDomesticDailyChartBar(time='2024-12-30T00:00:00+09:00', open=162200, close=173900, high=184500, low=158600, volume=70906903, amount=12140170482126, change=14000),\n",
       "        KisDomesticDailyChartBar(time='2025-01-31T00:00:00+09:00', open=170500, close=199200, high=227000, low=170000, volume=93226380, amount=19014634991691, change=25300),\n",
       "        KisDomesticDailyChartBar(time='2025-02-28T00:00:00+09:00', open=191500, close=190200, high=219500, low=186900, volume=72357075, amount=14536053314602, change=-9000),\n",
       "        KisDomesticDailyChartBar(time='2025-03-31T00:00:00+09:00', open=184800, close=190700, high=219500, low=181300, volume=64484725, amount=12856327045739, change=500),\n",
       "        KisDomesticDailyChartBar(time='2025-04-30T00:00:00+09:00', open=193600, close=177500, high=201500, low=162700, volume=84081350, amount=15034049350903, change=-13200),\n",
       "        KisDomesticDailyChartBar(time='2025-05-30T00:00:00+09:00', open=179400, close=204500, high=214500, low=178400, volume=54576676, amount=10885494938988, change=27000),\n",
       "        KisDomesticDailyChartBar(time='2025-06-30T00:00:00+09:00', open=205000, close=292000, high=298500, low=203000, volume=81870850, amount=20787277958166, change=87500),\n",
       "        KisDomesticDailyChartBar(time='2025-07-31T00:00:00+09:00', open=291000, close=273500, high=306500, low=254500, volume=83485666, amount=23197474955853, change=-18500),\n",
       "        KisDomesticDailyChartBar(time='2025-08-29T00:00:00+09:00', open=266000, close=269000, high=279000, low=245000, volume=55803841, amount=14547800414007, change=-4500),\n",
       "        KisDomesticDailyChartBar(time='2025-09-22T00:00:00+09:00', open=259500, close=351000, high=360000, low=255000, volume=59783824, amount=18855179247270, change=82000)\n",
       "    ]\n",
       ")"
      ]
     },
     "execution_count": 11,
     "metadata": {},
     "output_type": "execute_result"
    }
   ],
   "source": [
    "chart"
   ]
  },
  {
   "cell_type": "code",
   "execution_count": 12,
   "metadata": {},
   "outputs": [],
   "source": [
    "\n",
    "# chart: KisChart = hynix.chart(period=\"year\")  # 상장 이래의 연간 일봉입니다.\n",
    "# chart: KisChart = hynix.chart(start=date(2023, 1, 1))  # 2023년 1월 1일부터 현재까지의 일봉입니다.\n",
    "# chart: KisChart = hynix.chart(\n",
    "#     start=date(2023, 1, 1),\n",
    "#     end=date(2024, 1, 1),\n",
    "# ) # 2023년 1월 1일부터 2023년 12월 31일까지의 일봉입니다.\n"
   ]
  },
  {
   "cell_type": "code",
   "execution_count": 13,
   "metadata": {},
   "outputs": [],
   "source": [
    "\n",
    "chart: KisChart = hynix.chart(\"1h\", period=1)  # 최근 1시간의 1분봉입니다.\n"
   ]
  },
  {
   "cell_type": "code",
   "execution_count": 14,
   "metadata": {},
   "outputs": [
    {
     "data": {
      "text/plain": [
       "KisDomesticDayChart(\n",
       "    market='KRX',\n",
       "    symbol='000660',\n",
       "    bars=[\n",
       "        KisDomesticDayChartBar(time='2025-09-22T14:30:00+09:00', open=349500, close=349750, high=350000, low=349500, volume=6311, amount=1286215964000, change=-3250),\n",
       "        KisDomesticDayChartBar(time='2025-09-22T14:31:00+09:00', open=349750, close=349500, high=350000, low=349500, volume=3356, amount=1287389151250, change=-3500),\n",
       "        KisDomesticDayChartBar(time='2025-09-22T14:32:00+09:00', open=349500, close=349500, high=350000, low=349500, volume=3196, amount=1288506525750, change=-3500),\n",
       "        KisDomesticDayChartBar(time='2025-09-22T14:33:00+09:00', open=349500, close=349500, high=350000, low=349500, volume=2888, amount=1289516340000, change=-3500),\n",
       "        KisDomesticDayChartBar(time='2025-09-22T14:34:00+09:00', open=349500, close=349500, high=349750, low=349500, volume=5458, amount=1291424160250, change=-3500),\n",
       "        KisDomesticDayChartBar(time='2025-09-22T14:35:00+09:00', open=349500, close=349500, high=350000, low=349500, volume=4354, amount=1292946342500, change=-3500),\n",
       "        KisDomesticDayChartBar(time='2025-09-22T14:36:00+09:00', open=350000, close=349500, high=350000, low=349500, volume=3191, amount=1294062351250, change=-3500),\n",
       "        KisDomesticDayChartBar(time='2025-09-22T14:37:00+09:00', open=349500, close=349750, high=350000, low=349500, volume=3199, amount=1295180799500, change=-3250),\n",
       "        KisDomesticDayChartBar(time='2025-09-22T14:38:00+09:00', open=349500, close=349500, high=350000, low=349500, volume=3536, amount=1296417236500, change=-3500),\n",
       "        KisDomesticDayChartBar(time='2025-09-22T14:39:00+09:00', open=350000, close=349500, high=350000, low=349500, volume=4202, amount=1297886252000, change=-3500),\n",
       "        KisDomesticDayChartBar(time='2025-09-22T14:40:00+09:00', open=349500, close=349500, high=350000, low=349500, volume=5369, amount=1299763735000, change=-3500),\n",
       "        KisDomesticDayChartBar(time='2025-09-22T14:41:00+09:00', open=349500, close=349500, high=350000, low=349500, volume=3678, amount=1301049710750, change=-3500),\n",
       "        KisDomesticDayChartBar(time='2025-09-22T14:42:00+09:00', open=349750, close=349500, high=350000, low=349500, volume=4447, amount=1302604222750, change=-3500),\n",
       "        KisDomesticDayChartBar(time='2025-09-22T14:43:00+09:00', open=349500, close=349500, high=349750, low=349500, volume=3435, amount=1303805000500, change=-3500),\n",
       "        KisDomesticDayChartBar(time='2025-09-22T14:44:00+09:00', open=349500, close=349500, high=350000, low=349500, volume=4471, amount=1305368213750, change=-3500),\n",
       "        KisDomesticDayChartBar(time='2025-09-22T14:45:00+09:00', open=349500, close=349750, high=350000, low=349500, volume=4755, amount=1307030686500, change=-3250),\n",
       "        KisDomesticDayChartBar(time='2025-09-22T14:46:00+09:00', open=349750, close=350000, high=350000, low=349500, volume=3498, amount=1308254349000, change=-3000),\n",
       "        KisDomesticDayChartBar(time='2025-09-22T14:47:00+09:00', open=350000, close=350000, high=350000, low=349500, volume=31067, amount=1319127118000, change=-3000),\n",
       "        KisDomesticDayChartBar(time='2025-09-22T14:48:00+09:00', open=349750, close=349750, high=350000, low=349750, volume=12109, amount=1323364765250, change=-3250),\n",
       "        KisDomesticDayChartBar(time='2025-09-22T14:49:00+09:00', open=349750, close=350500, high=350500, low=349750, volume=46831, amount=1339758609250, change=-2500),\n",
       "        KisDomesticDayChartBar(time='2025-09-22T14:50:00+09:00', open=350250, close=351000, high=351500, low=350250, volume=21934, amount=1347454232250, change=-2000),\n",
       "        KisDomesticDayChartBar(time='2025-09-22T14:51:00+09:00', open=351500, close=351000, high=352000, low=351000, volume=11225, amount=1351399868000, change=-2000),\n",
       "        KisDomesticDayChartBar(time='2025-09-22T14:52:00+09:00', open=351000, close=351000, high=351500, low=351000, volume=3014, amount=1352458684500, change=-2000),\n",
       "        KisDomesticDayChartBar(time='2025-09-22T14:53:00+09:00', open=351000, close=351000, high=351500, low=351000, volume=2576, amount=1353363095750, change=-2000),\n",
       "        KisDomesticDayChartBar(time='2025-09-22T14:54:00+09:00', open=351500, close=351500, high=351500, low=351000, volume=2159, amount=1354121763750, change=-1500),\n",
       "        KisDomesticDayChartBar(time='2025-09-22T14:55:00+09:00', open=351000, close=351250, high=351500, low=351000, volume=4233, amount=1355609374250, change=-1750),\n",
       "        KisDomesticDayChartBar(time='2025-09-22T14:56:00+09:00', open=351250, close=351250, high=351500, low=351000, volume=3684, amount=1356904109250, change=-1750),\n",
       "        KisDomesticDayChartBar(time='2025-09-22T14:57:00+09:00', open=351250, close=351500, high=351500, low=351000, volume=3452, amount=1358117309750, change=-1500),\n",
       "        KisDomesticDayChartBar(time='2025-09-22T14:58:00+09:00', open=351500, close=351000, high=351500, low=351000, volume=4289, amount=1359624517750, change=-2000),\n",
       "        KisDomesticDayChartBar(time='2025-09-22T14:59:00+09:00', open=351000, close=352250, high=352500, low=351000, volume=12059, amount=1363865382000, change=-750),\n",
       "        KisDomesticDayChartBar(time='2025-09-22T15:00:00+09:00', open=352000, close=352500, high=352500, low=352000, volume=4688, amount=1365516602000, change=-500),\n",
       "        KisDomesticDayChartBar(time='2025-09-22T15:01:00+09:00', open=352500, close=352250, high=352500, low=352000, volume=4941, amount=1367257935500, change=-750),\n",
       "        KisDomesticDayChartBar(time='2025-09-22T15:02:00+09:00', open=352250, close=352250, high=352500, low=352000, volume=2958, amount=1368300149250, change=-750),\n",
       "        KisDomesticDayChartBar(time='2025-09-22T15:03:00+09:00', open=352000, close=352250, high=352250, low=352000, volume=3433, amount=1369509315750, change=-750),\n",
       "        KisDomesticDayChartBar(time='2025-09-22T15:04:00+09:00', open=352250, close=352500, high=352500, low=352000, volume=3500, amount=1370742337000, change=-500),\n",
       "        KisDomesticDayChartBar(time='2025-09-22T15:05:00+09:00', open=352000, close=351500, high=352500, low=351000, volume=18865, amount=1377377987250, change=-1500),\n",
       "        KisDomesticDayChartBar(time='2025-09-22T15:06:00+09:00', open=351500, close=351750, high=352000, low=351250, volume=13354, amount=1382072718000, change=-1250),\n",
       "        KisDomesticDayChartBar(time='2025-09-22T15:07:00+09:00', open=351500, close=351500, high=352000, low=351500, volume=5130, amount=1383876646000, change=-1500),\n",
       "        KisDomesticDayChartBar(time='2025-09-22T15:08:00+09:00', open=351750, close=351500, high=351750, low=351500, volume=5751, amount=1385898493000, change=-1500),\n",
       "        KisDomesticDayChartBar(time='2025-09-22T15:09:00+09:00', open=351500, close=351500, high=352000, low=351500, volume=8519, amount=1388893313500, change=-1500),\n",
       "        KisDomesticDayChartBar(time='2025-09-22T15:10:00+09:00', open=351500, close=351500, high=352000, low=351500, volume=4094, amount=1390333089500, change=-1500),\n",
       "        KisDomesticDayChartBar(time='2025-09-22T15:11:00+09:00', open=351500, close=351500, high=352000, low=351500, volume=11041, amount=1394215377750, change=-1500),\n",
       "        KisDomesticDayChartBar(time='2025-09-22T15:12:00+09:00', open=352000, close=351500, high=352000, low=351500, volume=6340, amount=1396445066250, change=-1500),\n",
       "        KisDomesticDayChartBar(time='2025-09-22T15:13:00+09:00', open=351500, close=351500, high=352000, low=351500, volume=8656, amount=1399489022250, change=-1500),\n",
       "        KisDomesticDayChartBar(time='2025-09-22T15:14:00+09:00', open=351500, close=352000, high=352000, low=351500, volume=10804, amount=1403288119500, change=-1000),\n",
       "        KisDomesticDayChartBar(time='2025-09-22T15:15:00+09:00', open=351500, close=351500, high=352000, low=351500, volume=9221, amount=1406532322250, change=-1500),\n",
       "        KisDomesticDayChartBar(time='2025-09-22T15:16:00+09:00', open=352000, close=352000, high=352000, low=351500, volume=8878, amount=1409654432000, change=-1000),\n",
       "        KisDomesticDayChartBar(time='2025-09-22T15:17:00+09:00', open=352000, close=352000, high=352000, low=351500, volume=10602, amount=1413385150500, change=-1000),\n",
       "        KisDomesticDayChartBar(time='2025-09-22T15:18:00+09:00', open=352000, close=352000, high=352000, low=351500, volume=15347, amount=1418786311000, change=-1000),\n",
       "        KisDomesticDayChartBar(time='2025-09-22T15:19:00+09:00', open=352000, close=351500, high=352500, low=351500, volume=11545, amount=1422848388500, change=-1500),\n",
       "        KisDomesticDayChartBar(time='2025-09-22T15:20:00+09:00', open=351500, close=351500, high=351500, low=351500, volume=0, amount=1422848388500, change=-1500),\n",
       "        KisDomesticDayChartBar(time='2025-09-22T15:21:00+09:00', open=351500, close=351500, high=351500, low=351500, volume=0, amount=1422848388500, change=-1500),\n",
       "        KisDomesticDayChartBar(time='2025-09-22T15:22:00+09:00', open=351500, close=351500, high=351500, low=351500, volume=0, amount=1422848388500, change=-1500),\n",
       "        KisDomesticDayChartBar(time='2025-09-22T15:23:00+09:00', open=351500, close=351500, high=351500, low=351500, volume=0, amount=1422848388500, change=-1500),\n",
       "        KisDomesticDayChartBar(time='2025-09-22T15:24:00+09:00', open=351500, close=351500, high=351500, low=351500, volume=0, amount=1422848388500, change=-1500),\n",
       "        KisDomesticDayChartBar(time='2025-09-22T15:25:00+09:00', open=351500, close=351500, high=351500, low=351500, volume=0, amount=1422848388500, change=-1500),\n",
       "        KisDomesticDayChartBar(time='2025-09-22T15:26:00+09:00', open=351500, close=351500, high=351500, low=351500, volume=0, amount=1422848388500, change=-1500),\n",
       "        KisDomesticDayChartBar(time='2025-09-22T15:27:00+09:00', open=351500, close=351500, high=351500, low=351500, volume=0, amount=1422848388500, change=-1500),\n",
       "        KisDomesticDayChartBar(time='2025-09-22T15:28:00+09:00', open=351500, close=351500, high=351500, low=351500, volume=0, amount=1422848388500, change=-1500),\n",
       "        KisDomesticDayChartBar(time='2025-09-22T15:29:00+09:00', open=351500, close=351500, high=351500, low=351500, volume=0, amount=1422848388500, change=-1500),\n",
       "        KisDomesticDayChartBar(time='2025-09-22T15:30:00+09:00', open=351000, close=351000, high=351000, low=351000, volume=281108, amount=1521517296500, change=-2000)\n",
       "    ]\n",
       ")"
      ]
     },
     "execution_count": 14,
     "metadata": {},
     "output_type": "execute_result"
    }
   ],
   "source": [
    "chart"
   ]
  },
  {
   "cell_type": "code",
   "execution_count": 15,
   "metadata": {},
   "outputs": [],
   "source": [
    "\n",
    "chart: KisChart = hynix.chart(period=5)  # 당일 5분봉입니다.\n",
    "chart: KisChart = hynix.chart(period=1, end=time(12, 30))  # 당일 12시 30분까지의 1분봉입니다."
   ]
  },
  {
   "cell_type": "code",
   "execution_count": 30,
   "metadata": {},
   "outputs": [
    {
     "ename": "UnicodeDecodeError",
     "evalue": "'cp949' codec can't decode byte 0xe2 in position 5815: illegal multibyte sequence",
     "output_type": "error",
     "traceback": [
      "\u001b[31m---------------------------------------------------------------------------\u001b[39m",
      "\u001b[31mUnicodeDecodeError\u001b[39m                        Traceback (most recent call last)",
      "\u001b[36mCell\u001b[39m\u001b[36m \u001b[39m\u001b[32mIn[30]\u001b[39m\u001b[32m, line 4\u001b[39m\n\u001b[32m      1\u001b[39m \u001b[38;5;28;01mfrom\u001b[39;00m\u001b[38;5;250m \u001b[39m\u001b[34;01mdatetime\u001b[39;00m\u001b[38;5;250m \u001b[39m\u001b[38;5;28;01mimport\u001b[39;00m datetime, timedelta\n\u001b[32m      2\u001b[39m \u001b[38;5;28;01mfrom\u001b[39;00m\u001b[38;5;250m \u001b[39m\u001b[34;01mlightweight_charts\u001b[39;00m\u001b[38;5;250m \u001b[39m\u001b[38;5;28;01mimport\u001b[39;00m JupyterChart\n\u001b[32m----> \u001b[39m\u001b[32m4\u001b[39m chart_view = \u001b[43mJupyterChart\u001b[49m\u001b[43m(\u001b[49m\u001b[43mwidth\u001b[49m\u001b[43m=\u001b[49m\u001b[32;43m1280\u001b[39;49m\u001b[43m,\u001b[49m\u001b[43m \u001b[49m\u001b[43mheight\u001b[49m\u001b[43m=\u001b[49m\u001b[32;43m720\u001b[39;49m\u001b[43m)\u001b[49m\n\u001b[32m      5\u001b[39m chart = hynix.chart(\u001b[33m\"\u001b[39m\u001b[33m1y\u001b[39m\u001b[33m\"\u001b[39m)\n\u001b[32m      7\u001b[39m chart_view.set(chart.df()) \u001b[38;5;66;03m# pykis의 차트 객체는 df함수를 이용하여 pandas DataFrame으로 변환할 수 있습니다.\u001b[39;00m\n",
      "\u001b[36mFile \u001b[39m\u001b[32mc:\\Users\\chlje\\VSCodeProjects\\ksif-kis-api\\.venv\\Lib\\site-packages\\lightweight_charts\\widgets.py:168\u001b[39m, in \u001b[36mJupyterChart.__init__\u001b[39m\u001b[34m(self, width, height, inner_width, inner_height, scale_candles_only, toolbox)\u001b[39m\n\u001b[32m    167\u001b[39m \u001b[38;5;28;01mdef\u001b[39;00m\u001b[38;5;250m \u001b[39m\u001b[34m__init__\u001b[39m(\u001b[38;5;28mself\u001b[39m, width: \u001b[38;5;28mint\u001b[39m = \u001b[32m800\u001b[39m, height=\u001b[32m350\u001b[39m, inner_width=\u001b[32m1\u001b[39m, inner_height=\u001b[32m1\u001b[39m, scale_candles_only: \u001b[38;5;28mbool\u001b[39m = \u001b[38;5;28;01mFalse\u001b[39;00m, toolbox: \u001b[38;5;28mbool\u001b[39m = \u001b[38;5;28;01mFalse\u001b[39;00m):\n\u001b[32m--> \u001b[39m\u001b[32m168\u001b[39m     \u001b[38;5;28;43msuper\u001b[39;49m\u001b[43m(\u001b[49m\u001b[43m)\u001b[49m\u001b[43m.\u001b[49m\u001b[34;43m__init__\u001b[39;49m\u001b[43m(\u001b[49m\u001b[43mwidth\u001b[49m\u001b[43m,\u001b[49m\u001b[43m \u001b[49m\u001b[43mheight\u001b[49m\u001b[43m,\u001b[49m\u001b[43m \u001b[49m\u001b[43minner_width\u001b[49m\u001b[43m,\u001b[49m\u001b[43m \u001b[49m\u001b[43minner_height\u001b[49m\u001b[43m,\u001b[49m\u001b[43m \u001b[49m\u001b[43mscale_candles_only\u001b[49m\u001b[43m,\u001b[49m\u001b[43m \u001b[49m\u001b[43mtoolbox\u001b[49m\u001b[43m,\u001b[49m\u001b[43m \u001b[49m\u001b[38;5;28;43;01mFalse\u001b[39;49;00m\u001b[43m)\u001b[49m\n\u001b[32m    170\u001b[39m     \u001b[38;5;28mself\u001b[39m.run_script(\u001b[33mf\u001b[39m\u001b[33m'''\u001b[39m\n\u001b[32m    171\u001b[39m \u001b[33m        for (var i = 0; i < document.getElementsByClassName(\u001b[39m\u001b[33m\"\u001b[39m\u001b[33mtv-lightweight-charts\u001b[39m\u001b[33m\"\u001b[39m\u001b[33m).length; i++) \u001b[39m\u001b[38;5;130;01m{{\u001b[39;00m\n\u001b[32m    172\u001b[39m \u001b[33m                var element = document.getElementsByClassName(\u001b[39m\u001b[33m\"\u001b[39m\u001b[33mtv-lightweight-charts\u001b[39m\u001b[33m\"\u001b[39m\u001b[33m)[i];\u001b[39m\n\u001b[32m   (...)\u001b[39m\u001b[32m    178\u001b[39m \u001b[33m        document.getElementById(\u001b[39m\u001b[33m'\u001b[39m\u001b[33mcontainer\u001b[39m\u001b[33m'\u001b[39m\u001b[33m).style.height = \u001b[39m\u001b[33m'\u001b[39m\u001b[33m100%\u001b[39m\u001b[33m'\u001b[39m\n\u001b[32m    179\u001b[39m \u001b[33m        \u001b[39m\u001b[33m'''\u001b[39m)\n\u001b[32m    180\u001b[39m     \u001b[38;5;28mself\u001b[39m.run_script(\u001b[33mf\u001b[39m\u001b[33m'\u001b[39m\u001b[38;5;132;01m{\u001b[39;00m\u001b[38;5;28mself\u001b[39m.id\u001b[38;5;132;01m}\u001b[39;00m\u001b[33m.chart.resize(\u001b[39m\u001b[38;5;132;01m{\u001b[39;00mwidth\u001b[38;5;132;01m}\u001b[39;00m\u001b[33m, \u001b[39m\u001b[38;5;132;01m{\u001b[39;00mheight\u001b[38;5;132;01m}\u001b[39;00m\u001b[33m)\u001b[39m\u001b[33m'\u001b[39m)\n",
      "\u001b[36mFile \u001b[39m\u001b[32mc:\\Users\\chlje\\VSCodeProjects\\ksif-kis-api\\.venv\\Lib\\site-packages\\lightweight_charts\\widgets.py:123\u001b[39m, in \u001b[36mStaticLWC.__init__\u001b[39m\u001b[34m(self, width, height, inner_width, inner_height, scale_candles_only, toolbox, autosize)\u001b[39m\n\u001b[32m    121\u001b[39m     css = f.read()\n\u001b[32m    122\u001b[39m \u001b[38;5;28;01mwith\u001b[39;00m \u001b[38;5;28mopen\u001b[39m(abstract.INDEX.replace(\u001b[33m\"\u001b[39m\u001b[33mindex.html\u001b[39m\u001b[33m\"\u001b[39m, \u001b[33m'\u001b[39m\u001b[33mbundle.js\u001b[39m\u001b[33m'\u001b[39m), \u001b[33m'\u001b[39m\u001b[33mr\u001b[39m\u001b[33m'\u001b[39m) \u001b[38;5;28;01mas\u001b[39;00m f:\n\u001b[32m--> \u001b[39m\u001b[32m123\u001b[39m     js = \u001b[43mf\u001b[49m\u001b[43m.\u001b[49m\u001b[43mread\u001b[49m\u001b[43m(\u001b[49m\u001b[43m)\u001b[49m\n\u001b[32m    124\u001b[39m \u001b[38;5;28;01mwith\u001b[39;00m \u001b[38;5;28mopen\u001b[39m(abstract.INDEX.replace(\u001b[33m\"\u001b[39m\u001b[33mindex.html\u001b[39m\u001b[33m\"\u001b[39m, \u001b[33m'\u001b[39m\u001b[33mlightweight-charts.js\u001b[39m\u001b[33m'\u001b[39m), \u001b[33m'\u001b[39m\u001b[33mr\u001b[39m\u001b[33m'\u001b[39m) \u001b[38;5;28;01mas\u001b[39;00m f:\n\u001b[32m    125\u001b[39m     lwc = f.read()\n",
      "\u001b[31mUnicodeDecodeError\u001b[39m: 'cp949' codec can't decode byte 0xe2 in position 5815: illegal multibyte sequence"
     ]
    }
   ],
   "source": [
    "from datetime import datetime, timedelta\n",
    "from lightweight_charts import JupyterChart\n",
    "\n",
    "chart_view = JupyterChart(width=1280, height=720)\n",
    "chart = hynix.chart(\"1y\")\n",
    "\n",
    "chart_view.set(chart.df()) # pykis의 차트 객체는 df함수를 이용하여 pandas DataFrame으로 변환할 수 있습니다.\n",
    "chart_view.set_visible_range(datetime.now() - timedelta(days=365), datetime.now())\n",
    "\n",
    "chart_view.load()"
   ]
  },
  {
   "cell_type": "code",
   "execution_count": 16,
   "metadata": {},
   "outputs": [
    {
     "name": "stdout",
     "output_type": "stream",
     "text": [
      "매도1호가: KisDomesticOrderbookItem(price=351500, volume=4676) 4676\n",
      "매수1호가: KisDomesticOrderbookItem(price=351000, volume=20055) 20055\n",
      "KisDomesticOrderbook(\n",
      "    market='KRX',\n",
      "    symbol='000660',\n",
      "    asks=[\n",
      "        KisDomesticOrderbookItem(price=351500, volume=4676),\n",
      "        KisDomesticOrderbookItem(price=352000, volume=9331),\n",
      "        KisDomesticOrderbookItem(price=352500, volume=6937),\n",
      "        KisDomesticOrderbookItem(price=353000, volume=6994),\n",
      "        KisDomesticOrderbookItem(price=353500, volume=14535),\n",
      "        KisDomesticOrderbookItem(price=354000, volume=19437),\n",
      "        KisDomesticOrderbookItem(price=354500, volume=23066),\n",
      "        KisDomesticOrderbookItem(price=355000, volume=15148),\n",
      "        KisDomesticOrderbookItem(price=355500, volume=4298),\n",
      "        KisDomesticOrderbookItem(price=356000, volume=5213)\n",
      "    ],\n",
      "    bids=[\n",
      "        KisDomesticOrderbookItem(price=351000, volume=20055),\n",
      "        KisDomesticOrderbookItem(price=350500, volume=29053),\n",
      "        KisDomesticOrderbookItem(price=350000, volume=35454),\n",
      "        KisDomesticOrderbookItem(price=349500, volume=24604),\n",
      "        KisDomesticOrderbookItem(price=349000, volume=34565),\n",
      "        KisDomesticOrderbookItem(price=348500, volume=32700),\n",
      "        KisDomesticOrderbookItem(price=348000, volume=16889),\n",
      "        KisDomesticOrderbookItem(price=347500, volume=14268),\n",
      "        KisDomesticOrderbookItem(price=347000, volume=19527),\n",
      "        KisDomesticOrderbookItem(price=346500, volume=6605)\n",
      "    ]\n",
      ")\n"
     ]
    }
   ],
   "source": [
    "from pykis import KisOrderbook\n",
    "\n",
    "orderbook: KisOrderbook = hynix.orderbook()\n",
    "\n",
    "print(\"매도1호가:\", orderbook.ask_price, orderbook.ask_volume)\n",
    "print(\"매수1호가:\", orderbook.bid_price, orderbook.bid_volume)\n",
    "\n",
    "print(repr(orderbook)) # repr을 통해 객체의 주요 내용을 확인할 수 있습니다."
   ]
  },
  {
   "cell_type": "markdown",
   "metadata": {},
   "source": [
    "### 잔고 조회"
   ]
  },
  {
   "cell_type": "code",
   "execution_count": 17,
   "metadata": {},
   "outputs": [],
   "source": [
    "from pykis import KisBalance\n",
    "\n",
    "# 주 계좌 객체를 가져옵니다.\n",
    "account = kis.account()\n"
   ]
  },
  {
   "cell_type": "code",
   "execution_count": 18,
   "metadata": {},
   "outputs": [
    {
     "data": {
      "text/plain": [
       "KisAccountScope(account_number=KisAccountNumber('43275647-01'))"
      ]
     },
     "execution_count": 18,
     "metadata": {},
     "output_type": "execute_result"
    }
   ],
   "source": [
    "account"
   ]
  },
  {
   "cell_type": "code",
   "execution_count": 19,
   "metadata": {},
   "outputs": [
    {
     "data": {
      "text/plain": [
       "KisIntegrationBalance(\n",
       "    account_number=KisAccountNumber('43275647-01'),\n",
       "    deposits={\n",
       "        'KRW': KisDomesticDeposit(account_number=KisAccountNumber('43275647-01'), currency='KRW', amount=169490, exchange_rate=1)\n",
       "    },\n",
       "    stocks=[\n",
       "        KisDomesticBalanceStock(account_number=KisAccountNumber('43275647-01'), market='KRX', symbol='005930', qty=2, price=83500, amount=167000, profit=2800, profit_rate=1.705237515225334957369062119),\n",
       "        KisDomesticBalanceStock(account_number=KisAccountNumber('43275647-01'), market='KRX', symbol='079160', qty=1, price=5470, amount=5470, profit=-70, profit_rate=-1.263537906137184115523465704),\n",
       "        KisDomesticBalanceStock(account_number=KisAccountNumber('43275647-01'), market='KRX', symbol='316140', qty=1, price=26350, amount=26350, profit=-50, profit_rate=-0.1893939393939393939393939394),\n",
       "        KisDomesticBalanceStock(account_number=KisAccountNumber('43275647-01'), market='KRX', symbol='360750', qty=1, price=23015, amount=23015, profit=-5, profit_rate=-0.02172024326672458731537793223)\n",
       "    ],\n",
       "    purchase_amount=219160,\n",
       "    current_amount=221835,\n",
       "    profit=2675,\n",
       "    profit_rate=1.220569446979375798503376529\n",
       ")"
      ]
     },
     "execution_count": 19,
     "metadata": {},
     "output_type": "execute_result"
    }
   ],
   "source": [
    "account.balance()"
   ]
  },
  {
   "cell_type": "code",
   "execution_count": 20,
   "metadata": {},
   "outputs": [
    {
     "data": {
      "text/plain": [
       "KisIntegrationOrderProfits(\n",
       "    account_number=KisAccountNumber('43275647-01'),\n",
       "    buy_amount=0,\n",
       "    sell_amount=0,\n",
       "    profit=0,\n",
       "    orders=[]\n",
       ")"
      ]
     },
     "execution_count": 20,
     "metadata": {},
     "output_type": "execute_result"
    }
   ],
   "source": [
    "account.profits(start=date(2024, 1, 1))"
   ]
  },
  {
   "cell_type": "code",
   "execution_count": 21,
   "metadata": {},
   "outputs": [
    {
     "name": "stdout",
     "output_type": "stream",
     "text": [
      "KisIntegrationDailyOrders(\n",
      "    account_number=KisAccountNumber('43275647-01'),\n",
      "    orders=[]\n",
      ")\n"
     ]
    }
   ],
   "source": [
    "from datetime import date\n",
    "from pykis import KisDailyOrders\n",
    "\n",
    "daily_orders: KisDailyOrders = account.daily_orders(start=date(2025, 9, 15), end=date(2025, 9, 18))\n",
    "\n",
    "print(repr(daily_orders)) # repr을 통해 객체의 주요 내용을 확인할 수 있습니다."
   ]
  },
  {
   "cell_type": "markdown",
   "metadata": {},
   "source": [
    "### 매도/매수 주문\n",
    "\n",
    "skip for now"
   ]
  },
  {
   "cell_type": "markdown",
   "metadata": {},
   "source": [
    "### 실시간 체결가 조회"
   ]
  },
  {
   "cell_type": "code",
   "execution_count": null,
   "metadata": {},
   "outputs": [
    {
     "name": "stdout",
     "output_type": "stream",
     "text": [
      "{KisWebsocketTR(id='H0STCNT0', key='000660')}\n"
     ]
    }
   ],
   "source": [
    "from pykis import KisRealtimePrice, KisSubscriptionEventArgs, KisWebsocketClient, PyKis\n",
    "\n",
    "def on_price(sender: KisWebsocketClient, e: KisSubscriptionEventArgs[KisRealtimePrice]):\n",
    "    print(e.response)\n",
    "\n",
    "ticket = hynix.on(\"price\", on_price)\n",
    "\n",
    "print(kis.websocket.subscriptions) # 현재 구독중인 이벤트 목록\n",
    "\n",
    "input(\"Press Enter to exit...\")\n",
    "\n",
    "ticket.unsubscribe()"
   ]
  },
  {
   "cell_type": "code",
   "execution_count": null,
   "metadata": {},
   "outputs": [],
   "source": []
  }
 ],
 "metadata": {
  "kernelspec": {
   "display_name": ".venv",
   "language": "python",
   "name": "python3"
  },
  "language_info": {
   "codemirror_mode": {
    "name": "ipython",
    "version": 3
   },
   "file_extension": ".py",
   "mimetype": "text/x-python",
   "name": "python",
   "nbconvert_exporter": "python",
   "pygments_lexer": "ipython3",
   "version": "3.12.7"
  }
 },
 "nbformat": 4,
 "nbformat_minor": 2
}
